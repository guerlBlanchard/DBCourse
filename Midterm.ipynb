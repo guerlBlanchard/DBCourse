{
  "nbformat": 4,
  "nbformat_minor": 0,
  "metadata": {
    "colab": {
      "provenance": [],
      "collapsed_sections": [],
      "authorship_tag": "ABX9TyMcG0UJ86l8K42HYo/Shgr1",
      "include_colab_link": true
    },
    "kernelspec": {
      "name": "python3",
      "display_name": "Python 3"
    },
    "language_info": {
      "name": "python"
    }
  },
  "cells": [
    {
      "cell_type": "markdown",
      "metadata": {
        "id": "view-in-github",
        "colab_type": "text"
      },
      "source": [
        "<a href=\"https://colab.research.google.com/github/guerlBlanchard/DBCourse/blob/main/Midterm.ipynb\" target=\"_parent\"><img src=\"https://colab.research.google.com/assets/colab-badge.svg\" alt=\"Open In Colab\"/></a>"
      ]
    },
    {
      "cell_type": "code",
      "execution_count": 25,
      "metadata": {
        "id": "my5Xkr4yXc32"
      },
      "outputs": [],
      "source": [
        "from sqlalchemy import create_engine\n",
        "from sqlalchemy import text\n",
        "\n",
        "my_conn = create_engine(\"sqlite:////content/my_db.db\")"
      ]
    },
    {
      "cell_type": "code",
      "source": [
        "file = open('ITS - create.sql')\n",
        "sql_instructions = file.read()\n",
        "\n",
        "for single_instruction in sql_instructions.split(';'):\n",
        "  single_instruction += ';'\n",
        "  my_conn.execute(text(single_instruction))"
      ],
      "metadata": {
        "id": "oJdGYYmkgced"
      },
      "execution_count": 26,
      "outputs": []
    },
    {
      "cell_type": "code",
      "source": [
        "file = open('ITS - insert.sql')\n",
        "sql_instructions = file.read()\n",
        "\n",
        "for single_instruction in sql_instructions.split(';'):\n",
        "  single_instruction += ';'\n",
        "  my_conn.execute(text(single_instruction))"
      ],
      "metadata": {
        "id": "6tffk47D14E1"
      },
      "execution_count": 27,
      "outputs": []
    }
  ]
}