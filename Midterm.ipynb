{
  "nbformat": 4,
  "nbformat_minor": 0,
  "metadata": {
    "colab": {
      "provenance": [],
      "collapsed_sections": [],
      "authorship_tag": "ABX9TyNoiLBAErtsWEq48Puu5ot8",
      "include_colab_link": true
    },
    "kernelspec": {
      "name": "python3",
      "display_name": "Python 3"
    },
    "language_info": {
      "name": "python"
    }
  },
  "cells": [
    {
      "cell_type": "markdown",
      "metadata": {
        "id": "view-in-github",
        "colab_type": "text"
      },
      "source": [
        "<a href=\"https://colab.research.google.com/github/guerlBlanchard/DBCourse/blob/main/Midterm.ipynb\" target=\"_parent\"><img src=\"https://colab.research.google.com/assets/colab-badge.svg\" alt=\"Open In Colab\"/></a>"
      ]
    },
    {
      "cell_type": "markdown",
      "source": [
        "Connection To the Database"
      ],
      "metadata": {
        "id": "gf_O5bneWsqA"
      }
    },
    {
      "cell_type": "code",
      "execution_count": 25,
      "metadata": {
        "id": "my5Xkr4yXc32"
      },
      "outputs": [],
      "source": [
        "from sqlalchemy import create_engine\n",
        "from sqlalchemy import text\n",
        "\n",
        "my_conn = create_engine(\"sqlite:////content/my_db.db\")"
      ]
    },
    {
      "cell_type": "markdown",
      "source": [
        "Table creation"
      ],
      "metadata": {
        "id": "oWPqtHg6Wovd"
      }
    },
    {
      "cell_type": "code",
      "source": [
        "file = open('ITS - create.sql')\n",
        "sql_instructions = file.read()\n",
        "\n",
        "for single_instruction in sql_instructions.split(';'):\n",
        "  single_instruction += ';'\n",
        "  my_conn.execute(text(single_instruction))"
      ],
      "metadata": {
        "id": "oJdGYYmkgced"
      },
      "execution_count": 26,
      "outputs": []
    },
    {
      "cell_type": "markdown",
      "source": [
        "Data insertion"
      ],
      "metadata": {
        "id": "kTa1h0DTWeHD"
      }
    },
    {
      "cell_type": "code",
      "source": [
        "file = open('ITS - insert.sql')\n",
        "sql_instructions = file.read()\n",
        "\n",
        "for single_instruction in sql_instructions.split(';'):\n",
        "  single_instruction += ';'\n",
        "  my_conn.execute(text(single_instruction))"
      ],
      "metadata": {
        "id": "6tffk47D14E1"
      },
      "execution_count": 27,
      "outputs": []
    },
    {
      "cell_type": "markdown",
      "source": [
        "Display"
      ],
      "metadata": {
        "id": "1KLMOgsCWaD5"
      }
    },
    {
      "cell_type": "code",
      "source": [
        "r_set = my_conn.execute('''SELECT * from Maintenance''')\n",
        "for row in r_set:\n",
        "  print(row)"
      ],
      "metadata": {
        "colab": {
          "base_uri": "https://localhost:8080/"
        },
        "id": "2YxcFPpTWdPC",
        "outputId": "a7e16ab1-33f1-4e3e-e9d0-a08907bda186"
      },
      "execution_count": 29,
      "outputs": [
        {
          "output_type": "stream",
          "name": "stdout",
          "text": [
            "(2, 'M', 12000, 'Basic description text', '2022-01-01', '2', 0)\n"
          ]
        }
      ]
    },
    {
      "cell_type": "code",
      "source": [
        "r_set = my_conn.execute('''SELECT * from vehicule''')\n",
        "for row in r_set:\n",
        "  print(row)"
      ],
      "metadata": {
        "colab": {
          "base_uri": "https://localhost:8080/"
        },
        "id": "DyTtBsvsWENG",
        "outputId": "ea56bcba-960a-4f70-e252-57ec54bf007b"
      },
      "execution_count": 28,
      "outputs": [
        {
          "output_type": "stream",
          "name": "stdout",
          "text": [
            "('V1000', '2001 ABC', 'Volvo', 'XC90 SE', 'Silver', 4350, 4, 1)\n",
            "('V1001', '2006 AFD', 'Volvo', 'XC90 SE', 'Grey', 4350, 4, 0)\n"
          ]
        }
      ]
    },
    {
      "cell_type": "code",
      "source": [
        "r_set = my_conn.execute('''SELECT * from Language''')\n",
        "for row in r_set:\n",
        "  print(row)"
      ],
      "metadata": {
        "colab": {
          "base_uri": "https://localhost:8080/"
        },
        "id": "xwpxv_6DWxgI",
        "outputId": "ac9a7292-1e9e-4aa5-e19d-24e93f62de0a"
      },
      "execution_count": 30,
      "outputs": [
        {
          "output_type": "stream",
          "name": "stdout",
          "text": [
            "('FR', 'french')\n",
            "('KR', 'Korean')\n"
          ]
        }
      ]
    },
    {
      "cell_type": "code",
      "source": [
        "r_set = my_conn.execute('''SELECT * from Country''')\n",
        "for row in r_set:\n",
        "  print(row)"
      ],
      "metadata": {
        "colab": {
          "base_uri": "https://localhost:8080/"
        },
        "id": "tlSj_I58Wxrl",
        "outputId": "a33a4f50-e291-4d56-f5dc-dcab017279c1"
      },
      "execution_count": 31,
      "outputs": [
        {
          "output_type": "stream",
          "name": "stdout",
          "text": [
            "(1, 'France')\n",
            "(2, 'Korea')\n"
          ]
        }
      ]
    },
    {
      "cell_type": "code",
      "source": [
        "r_set = my_conn.execute('''SELECT * from Booking''')\n",
        "for row in r_set:\n",
        "  print(row)"
      ],
      "metadata": {
        "colab": {
          "base_uri": "https://localhost:8080/"
        },
        "id": "FJrEF7rkWxxQ",
        "outputId": "04c4fde2-6417-46ec-b1ed-1c446b9296b1"
      },
      "execution_count": 32,
      "outputs": [
        {
          "output_type": "stream",
          "name": "stdout",
          "text": [
            "(1, 4000, 4350, '2022-01-02 10:10:10', '2022-01-02 11:11:11', 1, 1, 1, '1', 1)\n"
          ]
        }
      ]
    }
  ]
}